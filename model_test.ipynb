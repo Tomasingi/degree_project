{
 "cells": [
  {
   "cell_type": "code",
   "execution_count": 1,
   "metadata": {},
   "outputs": [],
   "source": [
    "from model import MiniAllocationModel"
   ]
  },
  {
   "cell_type": "code",
   "execution_count": 2,
   "metadata": {},
   "outputs": [
    {
     "name": "stdout",
     "output_type": "stream",
     "text": [
      "Set parameter Username\n",
      "Academic license - for non-commercial use only - expires 2024-11-30\n",
      "0  - 10.75 1.5\n",
      "1  - 16.5 1.5\n",
      "2  - 14.75 1.25\n",
      "3  - 16.25 1.75\n",
      "4  - 16.0 2.0\n",
      "5  - 13.0 0.75\n",
      "6  - 16.5 1.0\n",
      "7  - 7.75 1.5\n",
      "8  - 15.0 1.5\n",
      "9  C 9.25 2.0\n",
      "10 - 16.0 1.5\n",
      "11 - 9.5 0.5\n",
      "12 - 9.5 1.5\n",
      "13 - 11.75 1.75\n",
      "14 - 7.5 0.75\n",
      "15 - 7.5 2.0\n",
      "16 C 15.5 1.0\n",
      "17 - 9.5 1.0\n",
      "18 - 10.25 2.0\n",
      "19 C 16.25 1.25\n",
      "20 - 11.75 1.0\n",
      "21 - 8.25 1.75\n",
      "22 - 7.5 1.5\n",
      "23 C 13.75 1.0\n",
      "24 - 12.0 2.25\n",
      "25 - 10.0 4.0\n",
      "26 - 14.0 1.0\n",
      "27 - 9.75 1.0\n",
      "28 C 16.0 1.25\n",
      "29 - 14.25 1.75\n",
      "30 C 15.0 2.5\n",
      "31 - 7.25 1.25\n",
      "32 - 9.25 0.75\n",
      "33 - 11.5 1.75\n",
      "34 - 8.5 4.75\n",
      "35 - 8.25 1.25\n",
      "36 - 11.0 1.75\n",
      "37 - 8.25 1.0\n",
      "38 - 8.5 2.0\n",
      "39 - 9.75 3.0\n",
      "40 - 8.5 0.75\n",
      "41 - 9.25 1.25\n",
      "42 - 9.5 1.0\n",
      "43 - 9.25 1.0\n",
      "44 - 15.25 1.25\n",
      "45 - 10.25 1.25\n",
      "46 C 8.5 1.0\n",
      "47 - 7.25 1.5\n",
      "\n",
      "Interrupt request received\n",
      "\n",
      "=== Delays ===\n",
      "0  0.0\n",
      "1  0.0\n",
      "2  0.0\n",
      "3  0.0\n",
      "4  0.0\n",
      "5  0.0\n",
      "6  0.0\n",
      "7  0.0\n",
      "8  0.0\n",
      "9  0.0\n",
      "10 0.0\n",
      "11 0.0\n",
      "12 0.5\n",
      "13 0.0\n",
      "14 0.0\n",
      "15 0.0\n",
      "16 0.0\n",
      "17 0.0\n",
      "18 0.0\n",
      "19 0.25\n",
      "20 0.0\n",
      "21 0.0\n",
      "22 0.0\n",
      "23 0.0\n",
      "24 0.25\n",
      "25 0.5\n",
      "26 0.0\n",
      "27 0.25\n",
      "28 0.0\n",
      "29 0.0\n",
      "30 0.0\n",
      "31 0.0\n",
      "32 0.0\n",
      "33 0.0\n",
      "34 1.5\n",
      "35 0.0\n",
      "36 0.0\n",
      "37 0.0\n",
      "38 0.25\n",
      "39 0.75\n",
      "40 0.0\n",
      "41 0.0\n",
      "42 0.0\n",
      "43 0.0\n",
      "44 0.0\n",
      "45 0.25\n",
      "46 0.0\n",
      "47 0.0\n",
      "\n",
      "=== Leaving times ===\n"
     ]
    },
    {
     "ename": "AttributeError",
     "evalue": "'MiniAllocationModel' object has no attribute 'l'",
     "output_type": "error",
     "traceback": [
      "\u001b[0;31m---------------------------------------------------------------------------\u001b[0m",
      "\u001b[0;31mAttributeError\u001b[0m                            Traceback (most recent call last)",
      "Cell \u001b[0;32mIn[2], line 5\u001b[0m\n\u001b[1;32m      2\u001b[0m model\u001b[38;5;241m.\u001b[39mprint_operations()\n\u001b[1;32m      3\u001b[0m model\u001b[38;5;241m.\u001b[39msolve()\n\u001b[0;32m----> 5\u001b[0m \u001b[43mmodel\u001b[49m\u001b[38;5;241;43m.\u001b[39;49m\u001b[43mprint_solution\u001b[49m\u001b[43m(\u001b[49m\u001b[43m)\u001b[49m\n",
      "File \u001b[0;32m~/Documents/kth/vt_2024/degree_project/IDeLM-APAP-learning-fairness-models/new/model.py:176\u001b[0m, in \u001b[0;36mMiniAllocationModel.print_solution\u001b[0;34m(self)\u001b[0m\n\u001b[1;32m    174\u001b[0m \u001b[38;5;28mprint\u001b[39m(\u001b[38;5;124m\"\u001b[39m\u001b[38;5;124m=== Leaving times ===\u001b[39m\u001b[38;5;124m\"\u001b[39m)\n\u001b[1;32m    175\u001b[0m \u001b[38;5;28;01mfor\u001b[39;00m d \u001b[38;5;129;01min\u001b[39;00m \u001b[38;5;28mself\u001b[39m\u001b[38;5;241m.\u001b[39mD\u001b[38;5;241m.\u001b[39mdoctors:\n\u001b[0;32m--> 176\u001b[0m     \u001b[38;5;28mprint\u001b[39m(\u001b[38;5;124mf\u001b[39m\u001b[38;5;124m'\u001b[39m\u001b[38;5;132;01m{\u001b[39;00md\u001b[38;5;241m.\u001b[39mname\u001b[38;5;132;01m:\u001b[39;00m\u001b[38;5;124m15\u001b[39m\u001b[38;5;132;01m}\u001b[39;00m\u001b[38;5;132;01m{\u001b[39;00m\u001b[38;5;28mround\u001b[39m(\u001b[38;5;28;43mself\u001b[39;49m\u001b[38;5;241;43m.\u001b[39;49m\u001b[43ml\u001b[49m[d]\u001b[38;5;241m.\u001b[39mX,\u001b[38;5;250m \u001b[39m\u001b[38;5;241m2\u001b[39m)\u001b[38;5;132;01m}\u001b[39;00m\u001b[38;5;124m'\u001b[39m)\n\u001b[1;32m    178\u001b[0m \u001b[38;5;28mprint\u001b[39m()\n\u001b[1;32m    179\u001b[0m \u001b[38;5;28mprint\u001b[39m(\u001b[38;5;124m\"\u001b[39m\u001b[38;5;124m=== Operation allocations ===\u001b[39m\u001b[38;5;124m\"\u001b[39m)\n",
      "\u001b[0;31mAttributeError\u001b[0m: 'MiniAllocationModel' object has no attribute 'l'"
     ]
    }
   ],
   "source": [
    "model = MiniAllocationModel()\n",
    "model.print_operations()\n",
    "model.solve()\n",
    "\n",
    "model.print_solution()"
   ]
  },
  {
   "cell_type": "code",
   "execution_count": null,
   "metadata": {},
   "outputs": [
    {
     "data": {
      "image/png": "[encoded data removed]",
      "text/plain": [
       "<Figure size 640x480 with 1 Axes>"
      ]
     },
     "metadata": {},
     "output_type": "display_data"
    }
   ],
   "source": [
    "# Print allocations\n",
    "model.plot_allocations()"
   ]
  }
 ],
 "metadata": {
  "kernelspec": {
   "display_name": "snek",
   "language": "python",
   "name": "python3"
  },
  "language_info": {
   "codemirror_mode": {
    "name": "ipython",
    "version": 3
   },
   "file_extension": ".py",
   "mimetype": "text/x-python",
   "name": "python",
   "nbconvert_exporter": "python",
   "pygments_lexer": "ipython3",
   "version": "3.10.13"
  }
 },
 "nbformat": 4,
 "nbformat_minor": 2
}
