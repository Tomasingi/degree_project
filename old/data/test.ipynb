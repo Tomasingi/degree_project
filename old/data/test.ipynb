{
 "cells": [
  {
   "cell_type": "code",
   "execution_count": 322,
   "metadata": {},
   "outputs": [],
   "source": [
    "from simulator import sample_day"
   ]
  },
  {
   "cell_type": "code",
   "execution_count": 323,
   "metadata": {},
   "outputs": [
    {
     "name": "stdout",
     "output_type": "stream",
     "text": [
      "[(15.5, 0.75), (13.25, 2.25), (7.25, 2.25), (15.25, 1.0), (11.25, 0.5), (14.25, 2.0)]\n"
     ]
    }
   ],
   "source": [
    "print(sample_day())"
   ]
  }
 ],
 "metadata": {
  "kernelspec": {
   "display_name": "snek",
   "language": "python",
   "name": "python3"
  },
  "language_info": {
   "codemirror_mode": {
    "name": "ipython",
    "version": 3
   },
   "file_extension": ".py",
   "mimetype": "text/x-python",
   "name": "python",
   "nbconvert_exporter": "python",
   "pygments_lexer": "ipython3",
   "version": "3.10.13"
  }
 },
 "nbformat": 4,
 "nbformat_minor": 2
}
